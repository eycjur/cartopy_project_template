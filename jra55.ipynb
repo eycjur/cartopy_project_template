{
 "cells": [
  {
   "cell_type": "markdown",
   "metadata": {
    "id": "1rA5bJttaOCk"
   },
   "source": [
    "# 実装"
   ]
  },
  {
   "cell_type": "markdown",
   "metadata": {
    "id": "97kpkwEMZwri"
   },
   "source": [
    "## 準備"
   ]
  },
  {
   "cell_type": "code",
   "execution_count": null,
   "metadata": {
    "id": "D4z6GqH80b18"
   },
   "outputs": [],
   "source": [
    "# ライブラリのインポート\n",
    "from typing import Optional, Tuple\n",
    "import random\n",
    "import warnings\n",
    "\n",
    "import numpy as np\n",
    "import pandas as pd\n",
    "import matplotlib.pyplot as plt\n",
    "import seaborn as sns\n",
    "import japanize_matplotlib\n",
    "import pygrib\n",
    "import cartopy.crs as ccrs\n",
    "import cartopy.feature as cfeature\n",
    "from shapely.errors import ShapelyDeprecationWarning\n",
    "\n",
    "warnings.filterwarnings('ignore', category=ShapelyDeprecationWarning)\n",
    "\n",
    "plt.rcParams[\"font.size\"] = 18  # 図の文字サイズを大きくしておく\n",
    "seed = 42  # 乱数状態の固定"
   ]
  },
  {
   "cell_type": "code",
   "execution_count": null,
   "metadata": {
    "id": "qupqYvn0BV3I"
   },
   "outputs": [],
   "source": [
    "# 各種設定\n",
    "path = \"./anl_p125_hgt.2012011012\"  # JRA-55データのパス\n",
    "level = 850  # 気圧面\n",
    "projection = ccrs.PlateCarree()  # 正距円筒図法"
   ]
  },
  {
   "cell_type": "markdown",
   "metadata": {
    "id": "vKVdQXWmZ7CB"
   },
   "source": [
    "## データの読み込み"
   ]
  },
  {
   "cell_type": "code",
   "execution_count": null,
   "metadata": {
    "id": "gE0C3Csp0XdS"
   },
   "outputs": [],
   "source": [
    "def inquire_grib_data(path: str) -> None:\n",
    "    \"\"\"データ概要を表示\n",
    "\n",
    "    Args:\n",
    "        path(str): 読むデータのパス \n",
    "    \"\"\"\n",
    "    grbs = pygrib.open(path)\n",
    "    for grb in grbs:\n",
    "        print(grb)\n",
    "    return"
   ]
  },
  {
   "cell_type": "code",
   "execution_count": null,
   "metadata": {
    "colab": {
     "base_uri": "https://localhost:8080/"
    },
    "id": "lXhebYgP0gZX",
    "outputId": "c98e22ef-6ca3-4739-a9bb-a9406248e981"
   },
   "outputs": [],
   "source": [
    "inquire_grib_data(path)"
   ]
  },
  {
   "cell_type": "code",
   "execution_count": null,
   "metadata": {
    "id": "tSjIr6iZz6Ej"
   },
   "outputs": [],
   "source": [
    "def read_grib_data(\n",
    "    path: str,\n",
    "    name: Optional[str] = None,\n",
    "    level: Optional[int] = None\n",
    ")-> Tuple[np.ndarray, np.ndarray, np.ndarray, np.ndarray]:\n",
    "    \"\"\"データを読む\n",
    "\n",
    "    - levelを与えないと全３次元データ\n",
    "    \n",
    "    Args:\n",
    "        path(str): 読むデータのパス\n",
    "        name(Optional[str]): 変数名(anl_surf125に対して与える)\n",
    "        level(Optional[int]): 気圧面（anl_p125に対して与える）\n",
    "\n",
    "    Returns:\n",
    "        Tuple[np.ndarray, np.ndarray, np.ndarray, np.ndarray]: 経度, 緯度, 気圧面, データ\n",
    "    \"\"\"\n",
    "    grbs = pygrib.open(path)\n",
    "\n",
    "    if name is not None:\n",
    "        alines = grbs.select(name=name)\n",
    "    elif level is not None:\n",
    "        alines = grbs.select(level=level)\n",
    "    else:\n",
    "        alines = grbs.select()\n",
    "\n",
    "    lat, lon = alines[0].latlons()  # lonは経度、latは緯度データ: (ny,nx)の２次元格子です\n",
    "    ny, nx = lat.shape\n",
    "    nline = len(alines)\n",
    "    gdata = np.empty((nline, ny, nx), dtype=\"float32\")\n",
    "    levels = np.empty((nline), dtype=\"float32\")\n",
    "\n",
    "    for iline, aline in enumerate(alines):\n",
    "        gdata[iline, :, :] = aline.values[::-1, :]\n",
    "        levels[iline] = aline[\"level\"]\n",
    "\n",
    "    return lon, lat[::-1], levels, gdata"
   ]
  },
  {
   "cell_type": "code",
   "execution_count": null,
   "metadata": {
    "colab": {
     "base_uri": "https://localhost:8080/"
    },
    "id": "NJPDpoWF00YN",
    "outputId": "07d60f73-09ca-42f8-8d80-8b2c4c5c6b72"
   },
   "outputs": [],
   "source": [
    "lon, lat, levels, data = read_grib_data(path, level=level)\n",
    "print(lon, lon.shape, lat, lat.shape, levels, data, data.shape, sep=\"\\n\\n\")"
   ]
  },
  {
   "cell_type": "code",
   "execution_count": null,
   "metadata": {
    "colab": {
     "base_uri": "https://localhost:8080/"
    },
    "id": "K_utqe2Pl969",
    "outputId": "f1518c11-cbc5-4216-ceca-c6367d2c907b"
   },
   "outputs": [],
   "source": [
    "data850 = data[0]\n",
    "data850.shape"
   ]
  },
  {
   "cell_type": "markdown",
   "metadata": {
    "id": "fWWpDhkcaA5z"
   },
   "source": [
    "## 等高線を描画"
   ]
  },
  {
   "cell_type": "code",
   "execution_count": null,
   "metadata": {
    "colab": {
     "base_uri": "https://localhost:8080/",
     "height": 510
    },
    "id": "oEgEr3J5JwQp",
    "outputId": "7f30ebac-ebc2-47a2-b842-5cf81fd40ad0"
   },
   "outputs": [],
   "source": [
    "# 描画領域の設定\n",
    "fig = plt.figure(figsize=(20, 15))\n",
    "ax = fig.add_subplot(projection=projection)\n",
    "\n",
    "# 地図関係\n",
    "ax.add_feature(cfeature.LAND)\n",
    "ax.coastlines(lw=0.5)\n",
    "ax.gridlines(linestyle='-', color='gray', draw_labels=True)\n",
    "\n",
    "# 等高線を描画\n",
    "# オプションはこちらを参照のこと：https://matplotlib.org/3.5.1/api/_as_gen/matplotlib.pyplot.contour.html\n",
    "cont = ax.contour(lon, lat, data850, transform=ccrs.PlateCarree(), cmap=\"rainbow\")\n",
    "cont.clabel(fmt='%1.1f', fontsize=14)"
   ]
  },
  {
   "cell_type": "markdown",
   "metadata": {
    "id": "lRt3j1OOY8pQ"
   },
   "source": [
    "![figの構造](https://cdn-ak.f.st-hatena.com/images/fotolife/Y/YutaKa/20210115/20210115154737.png)"
   ]
  },
  {
   "cell_type": "markdown",
   "metadata": {
    "id": "1SKtBM_OXUJG"
   },
   "source": [
    "## 図法の変更・塗りつぶし 2 次元等高線図"
   ]
  },
  {
   "cell_type": "code",
   "execution_count": null,
   "metadata": {
    "id": "h3nDaYqGTkhb"
   },
   "outputs": [],
   "source": [
    "projection_lambert = ccrs.LambertConformal()  # ランベルト正角円錐図法"
   ]
  },
  {
   "cell_type": "code",
   "execution_count": null,
   "metadata": {
    "colab": {
     "base_uri": "https://localhost:8080/",
     "height": 882
    },
    "id": "YFTZSHe-JwOX",
    "outputId": "e992d4e0-64c1-4623-fa49-56c408749d08"
   },
   "outputs": [],
   "source": [
    "fig = plt.figure(figsize=(20, 15))\n",
    "ax = fig.add_subplot(projection=projection_lambert)\n",
    "\n",
    "ax.add_feature(cfeature.LAND)\n",
    "ax.coastlines(lw=0.5)\n",
    "ax.gridlines(linestyle='-', color='gray', draw_labels=True)\n",
    "ax.set_extent([120, 150, 20, 50], ccrs.PlateCarree())  # 範囲の指定は正距円筒図法を利用\n",
    "\n",
    "contf = ax.contourf(lon, lat, data850, transform=ccrs.PlateCarree(), cmap=\"rainbow\",\n",
    "                    extend='both', levels=range(1200, 1600, 50))\n",
    "fig.colorbar(contf, orientation='vertical', shrink=0.8)"
   ]
  },
  {
   "cell_type": "markdown",
   "metadata": {
    "id": "9mLyooogXdtU"
   },
   "source": [
    "## 緯度経度データの描画"
   ]
  },
  {
   "cell_type": "code",
   "execution_count": null,
   "metadata": {
    "colab": {
     "base_uri": "https://localhost:8080/",
     "height": 423
    },
    "id": "yc9gPKIEgDL4",
    "outputId": "a7f5c794-4738-4ac4-a576-b3a4ea8ee083"
   },
   "outputs": [],
   "source": [
    "df_weather = pd.read_html(\"https://www.geekpage.jp/web/livedoor-weather-hacks/latlng.php\",\n",
    "                            header=0)[0]\n",
    "# ダミーデータの作成（コードは気にしなくて大丈夫です）\n",
    "# 適当なページからとってきたので、一部間違っていて地図からはみ出します\n",
    "\n",
    "df_weather = df_weather.dropna(axis=0)\n",
    "df_weather[\"天気\"] = [random.choice([\"晴れ\", \"曇り\", \"雨\"]) for i in range(len(df_weather))]\n",
    "df_weather"
   ]
  },
  {
   "cell_type": "code",
   "execution_count": null,
   "metadata": {
    "colab": {
     "base_uri": "https://localhost:8080/",
     "height": 866
    },
    "id": "ywnL5Ir7V_XZ",
    "outputId": "b5d1ed60-0952-4a49-87af-d9ea61b34c08"
   },
   "outputs": [],
   "source": [
    "fig = plt.figure(figsize=(20, 15))\n",
    "ax = fig.add_subplot(projection=projection_lambert)\n",
    "\n",
    "ax.add_feature(cfeature.LAND)\n",
    "ax.coastlines(lw=0.5)\n",
    "ax.gridlines(linestyle='-', color='gray', draw_labels=True)\n",
    "ax.set_extent([120, 150, 20, 50], ccrs.PlateCarree())\n",
    "\n",
    "cont = ax.contour(lon, lat, data850, transform=ccrs.PlateCarree(), cmap=\"rainbow\",\n",
    "                   levels=range(1200, 1600, 50))\n",
    "cont.clabel(fmt='%1.1f', fontsize=14)\n",
    "\n",
    "# 散布図を描画\n",
    "# オプションはこちらを参照のこと：https://seaborn.pydata.org/generated/seaborn.scatterplot.html\n",
    "# sns(seaborn)はmatplotlibのラッパーライブラリでpd(pandas)のDataFrameなどとの相性が非常に良い\n",
    "sns.scatterplot(x=\"経度(lng)\", y=\"緯度(lat)\", hue=\"天気\", data=df_weather,\n",
    "                transform=ccrs.PlateCarree(), palette=\"rainbow\", ax=ax)"
   ]
  },
  {
   "cell_type": "markdown",
   "metadata": {
    "id": "9mbSE7u8Kw8M"
   },
   "source": [
    "## クラスター分析の結果を表示"
   ]
  },
  {
   "cell_type": "code",
   "execution_count": null,
   "metadata": {
    "colab": {
     "base_uri": "https://localhost:8080/",
     "height": 423
    },
    "id": "Y2bCn1v2JAWb",
    "outputId": "e43621c8-4e20-4b8c-ee63-10272e43c6f1"
   },
   "outputs": [],
   "source": [
    "df_cluster = pd.read_csv(\"cluster_data.csv\", encoding=\"shift-jis\")\n",
    "df_cluster"
   ]
  },
  {
   "cell_type": "code",
   "execution_count": null,
   "metadata": {
    "colab": {
     "base_uri": "https://localhost:8080/",
     "height": 892
    },
    "id": "l_I1dm4aK1Yp",
    "outputId": "bc19f2d6-026c-4fe1-f321-be2169bfc21c"
   },
   "outputs": [],
   "source": [
    "fig = plt.figure(figsize=(20, 15))\n",
    "ax = fig.add_subplot(projection=projection)\n",
    "\n",
    "ax.coastlines(lw=0.5, color=\"gray\")\n",
    "# メモリだけ表示するのはめんどくさそうだったので、幅0の緯線経線を引いて力技で表示\n",
    "ax.gridlines(draw_labels=True, linewidth=0)\n",
    "ax.set_extent([120, 150, 20, 50], ccrs.PlateCarree())\n",
    "\n",
    "# styleでどの値に応じてマーカーの形を変えるかを規定して、markersで実際に利用するマーカーの形を記述する\n",
    "sns.scatterplot(x=\"lon\", y=\"lat\", hue=\"cluster_NO\", style=\"frag\", markers=[\"o\", \"^\"],\n",
    "                data=df_cluster, s=100, palette=\"rainbow_r\", ax=ax)"
   ]
  },
  {
   "cell_type": "code",
   "execution_count": null,
   "metadata": {
    "colab": {
     "base_uri": "https://localhost:8080/",
     "height": 671
    },
    "id": "YqzAq7cHRCbr",
    "outputId": "cdad7dc3-57cb-469d-a63f-7be903058c5c"
   },
   "outputs": [],
   "source": [
    "# ちなみにpythonでクラスター分析(k-means法)\n",
    "from sklearn.cluster import KMeans\n",
    "\n",
    "k_means = KMeans(n_clusters=6, random_state=seed).fit(df_cluster.loc[:, \"1\":\"12\"])\n",
    "df_cluster_copy = df_cluster.copy()\n",
    "df_cluster_copy[\"cluster_py\"] = k_means.labels_\n",
    "df_cluster_copy"
   ]
  },
  {
   "cell_type": "code",
   "execution_count": null,
   "metadata": {
    "colab": {
     "base_uri": "https://localhost:8080/",
     "height": 892
    },
    "id": "KAkDmoZRSMBd",
    "outputId": "ef0cff21-db42-4d07-a56f-c8a6af3c0518"
   },
   "outputs": [],
   "source": [
    "fig = plt.figure(figsize=(20, 15))\n",
    "ax = fig.add_subplot(projection=projection)\n",
    "\n",
    "ax.coastlines(lw=0.5, color=\"gray\")\n",
    "ax.gridlines(draw_labels=True, linewidth=0)\n",
    "ax.set_extent([120, 150, 20, 50], ccrs.PlateCarree())\n",
    "\n",
    "sns.scatterplot(x=\"lon\", y=\"lat\", hue=\"cluster_py\", style=\"frag\", markers=[\"o\", \"^\"],\n",
    "                data=df_cluster_copy, s=100, palette=\"rainbow_r\", ax=ax)"
   ]
  },
  {
   "cell_type": "code",
   "execution_count": null,
   "metadata": {
    "colab": {
     "base_uri": "https://localhost:8080/",
     "height": 312
    },
    "id": "hLk5rRMVWQkI",
    "outputId": "2f359553-e10b-4285-de75-b956e674c6da"
   },
   "outputs": [],
   "source": [
    "from sklearn.decomposition import PCA\n",
    "\n",
    "x_pca = pd.DataFrame(PCA(n_components=2).fit_transform(df_cluster.loc[:, \"1\":\"12\"]),\n",
    "                       columns=[\"1st\", \"2nd\"])\n",
    "x_pca[\"cluster\"] = df_cluster_copy[\"cluster_py\"]\n",
    "\n",
    "# 実は描画領域の設定をしなくても使える\n",
    "sns.scatterplot(x=\"1st\", y=\"2nd\", hue=\"cluster\", data=x_pca, palette=\"rainbow_r\")\n",
    "plt.legend(bbox_to_anchor=(1.05, 1))"
   ]
  },
  {
   "cell_type": "markdown",
   "metadata": {
    "id": "KCgiVIexmEDv"
   },
   "source": [
    "# 参考文献"
   ]
  },
  {
   "cell_type": "markdown",
   "metadata": {
    "id": "uVEsQmtQZnmA"
   },
   "source": [
    "- [気象データの出入力](https://humet.sci.hokudai.ac.jp/~meteo/tutorial.html)\n",
    "- [pygrib公式ドキュメント](https://jswhit.github.io/pygrib/api.html#module-pygrib)\n",
    "- [GPVでのpygrib利用例](https://qiita.com/kurukuruz/items/6fc0be9efa34a2fd6741)\n",
    "- [cartopy公式ドキュメント（図法一覧）](https://scitools.org.uk/cartopy/docs/latest/reference/projections.html)\n",
    "- [cartopyまとめ](https://yyousuke.github.io/matplotlib/cartopy.html)\n",
    "- [図法関連（日本語記事）](https://metpost.hatenablog.com/entry/2015/11/05/180006)\n",
    "- [matplotlib公式ドキュメント(contour)](https://matplotlib.org/3.5.1/api/_as_gen/matplotlib.pyplot.contour.html)\n",
    "- [seaborn公式ドキュメント(scatterplot)](https://seaborn.pydata.org/generated/seaborn.scatterplot.html)"
   ]
  },
  {
   "cell_type": "code",
   "execution_count": null,
   "metadata": {
    "id": "XfjjXp2CRPO2"
   },
   "outputs": [],
   "source": [
    "# このセルはこのままでは動かないです\n",
    "\n",
    "# shp形式の地図データを読み込む\n",
    "# 地図データのダウンロード\n",
    "# https://www.naturalearthdata.com/downloads/ (Physical -> Coastline)\n",
    "import cartopy.io.shapereader as shpreader\n",
    "\n",
    "shp_path = \"shpファイルのパス\"\n",
    "plt.figure(figsize=(20, 15))\n",
    "ax = plt.axes(projection=ccrs.PlateCarree())\n",
    "shapes = list(shpreader.Reader(shp_path).geometries())\n",
    "ax.add_geometries(shapes, ccrs.PlateCarree(), edgecolor='black', facecolor='gray', alpha=0.3)\n",
    "cont = plt.contour(lon, lat, data[0])\n",
    "cont.clabel(fmt='%1.1f', fontsize=14)\n",
    "plt.show()"
   ]
  },
  {
   "cell_type": "code",
   "execution_count": null,
   "metadata": {},
   "outputs": [],
   "source": []
  }
 ],
 "metadata": {
  "accelerator": "GPU",
  "colab": {
   "collapsed_sections": [],
   "name": "jra55.ipynb",
   "provenance": []
  },
  "kernelspec": {
   "display_name": "Python 3 (ipykernel)",
   "language": "python",
   "name": "python3"
  },
  "language_info": {
   "codemirror_mode": {
    "name": "ipython",
    "version": 3
   },
   "file_extension": ".py",
   "mimetype": "text/x-python",
   "name": "python",
   "nbconvert_exporter": "python",
   "pygments_lexer": "ipython3",
   "version": "3.9.4"
  }
 },
 "nbformat": 4,
 "nbformat_minor": 4
}
